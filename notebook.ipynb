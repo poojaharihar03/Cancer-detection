{
 "cells": [
  {
   "cell_type": "code",
   "execution_count": 1,
   "id": "781afa8f",
   "metadata": {},
   "outputs": [],
   "source": [
    "import sklearn"
   ]
  },
  {
   "cell_type": "code",
   "execution_count": 2,
   "id": "25cc1de4",
   "metadata": {},
   "outputs": [],
   "source": [
    "from sklearn.datasets import load_breast_cancer\n",
    "\n",
    "# Loading dataset\n",
    "data = load_breast_cancer()"
   ]
  },
  {
   "cell_type": "code",
   "execution_count": 3,
   "id": "5e60bcaf",
   "metadata": {},
   "outputs": [],
   "source": [
    "label_names = data['target_names']\n",
    "labels = data['target']\n",
    "feature_names = data['feature_names']\n",
    "features = data['data']\n",
    "#have lists for each set of information."
   ]
  },
  {
   "cell_type": "code",
   "execution_count": 4,
   "id": "8e649a45",
   "metadata": {},
   "outputs": [
    {
     "name": "stdout",
     "output_type": "stream",
     "text": [
      "['malignant' 'benign']\n",
      "0\n",
      "mean radius\n",
      "[1.799e+01 1.038e+01 1.228e+02 1.001e+03 1.184e-01 2.776e-01 3.001e-01\n",
      " 1.471e-01 2.419e-01 7.871e-02 1.095e+00 9.053e-01 8.589e+00 1.534e+02\n",
      " 6.399e-03 4.904e-02 5.373e-02 1.587e-02 3.003e-02 6.193e-03 2.538e+01\n",
      " 1.733e+01 1.846e+02 2.019e+03 1.622e-01 6.656e-01 7.119e-01 2.654e-01\n",
      " 4.601e-01 1.189e-01]\n"
     ]
    }
   ],
   "source": [
    "print(label_names)\n",
    "print(labels[0])\n",
    "print(feature_names[0])\n",
    "print(features[0])"
   ]
  },
  {
   "cell_type": "markdown",
   "id": "9dfc986c",
   "metadata": {},
   "source": [
    "class names are malignant and benign we can represent them with binary values of 0 and 1.\n",
    "0 represents malignant tumors \n",
    "1 represents benign tumors."
   ]
  },
  {
   "cell_type": "code",
   "execution_count": 5,
   "id": "a2aae2cf",
   "metadata": {},
   "outputs": [],
   "source": [
    "from sklearn.model_selection import train_test_split"
   ]
  },
  {
   "cell_type": "code",
   "execution_count": 6,
   "id": "e7560476",
   "metadata": {},
   "outputs": [],
   "source": [
    "#Split our data\n",
    "\n",
    "train, test, train_labels, test_labels = train_test_split(features,labels,test_size=0.3,random_state=40)"
   ]
  },
  {
   "cell_type": "markdown",
   "id": "43e0c879",
   "metadata": {},
   "source": [
    "test set that represents 30% of the original dataset. The remaining data (train) then makes up\n",
    "the training data."
   ]
  },
  {
   "cell_type": "code",
   "execution_count": 7,
   "id": "44681e7b",
   "metadata": {},
   "outputs": [],
   "source": [
    "#naives bayes\n",
    "from sklearn.naive_bayes import GaussianNB"
   ]
  },
  {
   "cell_type": "code",
   "execution_count": 8,
   "id": "ea2fddd9",
   "metadata": {},
   "outputs": [],
   "source": [
    "#Initialize classifier\n",
    "gnb = GaussianNB()"
   ]
  },
  {
   "cell_type": "code",
   "execution_count": 9,
   "id": "21c8c2b1",
   "metadata": {},
   "outputs": [],
   "source": [
    "# Train classifier\n",
    "\n",
    "model = gnb.fit(train, train_labels)"
   ]
  },
  {
   "cell_type": "code",
   "execution_count": 10,
   "id": "244a4a19",
   "metadata": {},
   "outputs": [
    {
     "name": "stdout",
     "output_type": "stream",
     "text": [
      "[1 0 1 1 0 1 1 1 0 1 0 1 1 1 0 1 1 1 1 1 1 0 1 0 0 0 0 0 1 1 1 0 0 1 1 1 1\n",
      " 0 1 1 0 1 1 1 0 0 1 1 0 1 0 1 1 1 1 1 0 0 0 1 1 0 1 1 1 0 0 0 1 1 1 0 0 1\n",
      " 0 0 0 1 1 1 1 1 0 1 0 1 0 0 1 0 1 1 1 1 1 0 1 1 1 1 1 1 1 0 1 1 1 0 1 1 1\n",
      " 1 0 1 0 1 1 1 1 0 0 1 1 1 1 0 0 1 1 1 1 1 1 1 1 1 1 1 0 1 0 1 1 0 1 1 1 1\n",
      " 1 0 1 0 1 0 1 1 0 1 0 1 0 1 1 1 1 1 1 1 0 1 0]\n"
     ]
    }
   ],
   "source": [
    "#predictions\n",
    "preds = gnb.predict(test)\n",
    "print(preds)"
   ]
  },
  {
   "cell_type": "code",
   "execution_count": 22,
   "id": "708d4b9e",
   "metadata": {},
   "outputs": [
    {
     "name": "stdout",
     "output_type": "stream",
     "text": [
      "NB Accuracy: 0.9649122807017544\n"
     ]
    }
   ],
   "source": [
    "from sklearn.metrics import accuracy_score\n",
    "\n",
    "# Evaluating accuracy\n",
    "print(\"NB Accuracy:\", accuracy_score(test_labels, preds))"
   ]
  },
  {
   "cell_type": "markdown",
   "id": "b1bdbcf4",
   "metadata": {},
   "source": [
    "NB classifier is 96% accurate. This means that 96% of the time the classifier is able to make the\n",
    "correct prediction as to whether or not the tumor is malignant or benign."
   ]
  },
  {
   "cell_type": "markdown",
   "id": "fb6b71b1",
   "metadata": {},
   "source": [
    "## using SVM"
   ]
  },
  {
   "cell_type": "code",
   "execution_count": 12,
   "id": "72bf301a",
   "metadata": {},
   "outputs": [
    {
     "name": "stdout",
     "output_type": "stream",
     "text": [
      "[1 0 1 1 0 1 1 1 0 1 0 1 1 1 0 1 1 1 1 1 1 0 1 0 0 0 0 0 1 1 1 0 0 1 1 1 1\n",
      " 0 1 1 0 1 1 1 0 0 1 0 0 1 0 1 1 1 1 1 0 0 0 1 1 1 1 1 1 0 0 0 1 1 1 1 0 0\n",
      " 0 0 0 1 1 1 1 1 0 1 0 1 0 0 1 0 1 1 1 1 1 0 1 1 1 1 1 1 1 0 1 1 1 0 1 1 1\n",
      " 1 0 1 0 1 1 1 1 0 0 1 1 1 1 0 0 1 1 1 1 1 1 1 1 1 1 1 0 1 0 1 1 0 1 1 1 1\n",
      " 1 0 1 0 1 1 1 1 0 1 0 1 0 1 1 1 1 1 1 1 0 0 0]\n",
      "SVM Accuracy: 0.9532163742690059\n"
     ]
    }
   ],
   "source": [
    "from sklearn.svm import SVC\n",
    "\n",
    "# Initialize SVM classifier\n",
    "svm_classifier = SVC(kernel='linear', C=1)\n",
    "\n",
    "# Train\n",
    "svm_model = svm_classifier.fit(train, train_labels)\n",
    "\n",
    "#predictions using SVM\n",
    "svm_preds = svm_classifier.predict(test)\n",
    "print(svm_preds)\n",
    "\n",
    "# Evaluate accuracy\n",
    "print(\"SVM Accuracy:\", accuracy_score(test_labels, svm_preds))\n"
   ]
  },
  {
   "cell_type": "markdown",
   "id": "f8af87ee",
   "metadata": {},
   "source": [
    "## using DT"
   ]
  },
  {
   "cell_type": "code",
   "execution_count": 13,
   "id": "5c91c3f2",
   "metadata": {},
   "outputs": [
    {
     "name": "stdout",
     "output_type": "stream",
     "text": [
      "[1 0 1 1 0 1 1 1 0 1 0 1 1 1 0 1 1 1 0 1 1 0 1 0 0 0 0 0 1 1 1 0 0 1 1 1 1\n",
      " 0 1 1 0 1 1 1 0 0 1 1 0 1 0 1 1 1 1 1 0 1 0 1 1 0 1 1 1 0 0 0 1 1 0 0 0 1\n",
      " 0 0 0 1 1 1 1 1 0 1 0 1 0 0 1 0 1 1 1 1 1 0 1 1 1 1 1 1 1 0 1 1 1 0 1 1 1\n",
      " 1 0 1 0 1 1 1 1 0 0 1 1 1 1 0 0 1 1 1 1 1 1 1 1 1 1 1 0 1 1 1 1 0 1 1 1 1\n",
      " 1 0 1 0 1 0 1 1 0 1 0 1 0 1 1 1 1 1 1 1 0 0 0]\n",
      "Decision Tree Accuracy: 0.9590643274853801\n"
     ]
    }
   ],
   "source": [
    "from sklearn.tree import DecisionTreeClassifier\n",
    "\n",
    "# Initialize the Decision Tree classifier\n",
    "dt_classifier = DecisionTreeClassifier()\n",
    "\n",
    "# Train the Decision Tree classifier\n",
    "dt_model = dt_classifier.fit(train, train_labels)\n",
    "\n",
    "# Make predictions using Decision Tree\n",
    "dt_preds = dt_classifier.predict(test)\n",
    "print(dt_preds)\n",
    "\n",
    "# Evaluate accuracy for Decision Tree\n",
    "print(\"Decision Tree Accuracy:\", accuracy_score(test_labels, dt_preds))\n"
   ]
  },
  {
   "cell_type": "code",
   "execution_count": 14,
   "id": "6076acfe",
   "metadata": {},
   "outputs": [
    {
     "name": "stdout",
     "output_type": "stream",
     "text": [
      "[1 0 1 1 0 1 1 1 0 1 0 1 1 1 0 1 1 1 1 1 1 0 1 0 0 0 0 0 1 1 1 0 0 1 1 1 1\n",
      " 0 1 1 0 1 1 1 0 0 1 1 0 1 0 1 1 1 1 1 0 1 0 1 1 0 1 1 1 0 0 0 1 1 1 0 0 1\n",
      " 0 0 0 1 1 1 1 1 0 1 0 1 0 0 1 0 1 1 1 1 1 0 0 1 1 1 1 1 1 0 1 1 1 0 1 1 1\n",
      " 1 0 1 0 1 1 1 1 0 0 1 1 1 1 0 0 1 1 1 1 1 1 1 1 1 1 1 0 1 1 1 1 0 1 1 0 1\n",
      " 1 0 1 0 1 0 1 1 0 1 0 1 0 1 1 1 1 1 1 1 0 0 0]\n",
      "Random Forest Accuracy: 0.9707602339181286\n"
     ]
    }
   ],
   "source": [
    "from sklearn.ensemble import RandomForestClassifier\n",
    "\n",
    "# Initialize the Random Forest classifier\n",
    "rf_classifier = RandomForestClassifier(n_estimators=100, random_state=40)\n",
    "\n",
    "# Train the Random Forest classifier\n",
    "rf_model = rf_classifier.fit(train, train_labels)\n",
    "\n",
    "# Make predictions using Random Forest\n",
    "rf_preds = rf_classifier.predict(test)\n",
    "print(rf_preds)\n",
    "\n",
    "# Evaluate accuracy for Random Forest\n",
    "print(\"Random Forest Accuracy:\", accuracy_score(test_labels, rf_preds))\n"
   ]
  },
  {
   "cell_type": "code",
   "execution_count": 20,
   "id": "7ffc1459",
   "metadata": {
    "scrolled": true
   },
   "outputs": [
    {
     "name": "stdout",
     "output_type": "stream",
     "text": [
      "[1 0 1 1 0 1 1 1 0 1 0 1 1 1 0 1 1 1 1 1 1 0 1 0 0 0 0 0 1 1 1 0 0 1 1 0 1\n",
      " 0 1 1 0 1 1 1 0 1 1 0 0 1 0 1 1 1 1 1 0 0 0 1 1 1 1 1 1 0 0 0 1 1 1 1 0 0\n",
      " 0 0 0 1 1 1 1 1 0 1 0 1 0 0 1 0 1 1 1 1 1 0 1 1 1 1 1 1 1 0 1 1 1 0 1 1 1\n",
      " 1 0 1 0 1 1 1 1 0 0 1 1 1 1 0 0 1 1 1 1 1 1 1 1 1 1 1 0 1 0 1 1 0 0 1 1 1\n",
      " 1 0 1 0 1 1 1 1 0 1 0 1 0 1 1 1 1 1 1 1 0 0 0]\n",
      "Logistic Regression Accuracy: 0.935672514619883\n"
     ]
    },
    {
     "name": "stderr",
     "output_type": "stream",
     "text": [
      "/Users/poojaharihar/anaconda3/lib/python3.11/site-packages/sklearn/linear_model/_logistic.py:460: ConvergenceWarning: lbfgs failed to converge (status=1):\n",
      "STOP: TOTAL NO. of ITERATIONS REACHED LIMIT.\n",
      "\n",
      "Increase the number of iterations (max_iter) or scale the data as shown in:\n",
      "    https://scikit-learn.org/stable/modules/preprocessing.html\n",
      "Please also refer to the documentation for alternative solver options:\n",
      "    https://scikit-learn.org/stable/modules/linear_model.html#logistic-regression\n",
      "  n_iter_i = _check_optimize_result(\n"
     ]
    }
   ],
   "source": [
    "from sklearn.linear_model import LogisticRegression\n",
    "\n",
    "# Initialize the Logistic Regression classifier\n",
    "logreg_classifier = LogisticRegression(max_iter=100)\n",
    "\n",
    "# Train the Logistic Regression classifier\n",
    "logreg_model = logreg_classifier.fit(train, train_labels)\n",
    "\n",
    "# Make predictions using Logistic Regression\n",
    "logreg_preds = logreg_classifier.predict(test)\n",
    "print(logreg_preds)\n",
    "\n",
    "# Evaluate accuracy for Logistic Regression\n",
    "print(\"Logistic Regression Accuracy:\", accuracy_score(test_labels, logreg_preds))\n"
   ]
  },
  {
   "cell_type": "markdown",
   "id": "f8c8bf87",
   "metadata": {},
   "source": [
    "# Classification Model Evaluation Report\n",
    "\n",
    "## Random Forest Classifier\n",
    "- **Accuracy:** 97.08%\n",
    "- The Random Forest classifier achieved the highest accuracy among the models evaluated, making it a strong candidate for the breast cancer classification task.\n",
    "\n",
    "## Decision Tree Classifier\n",
    "- **Accuracy:** 95.91%\n",
    "- The Decision Tree classifier performed well, demonstrating high accuracy in predicting breast cancer malignancy.\n",
    "\n",
    "## Support Vector Machine (SVM) Classifier\n",
    "- **Accuracy:** 95.32%\n",
    "- The SVM classifier showed strong performance, although slightly lower than Random Forest. SVMs are known for their effectiveness in high-dimensional spaces.\n",
    "\n",
    "## K-Nearest Neighbors (KNN) Classifier\n",
    "- **Accuracy:** 93.57%\n",
    "- The KNN classifier demonstrated good accuracy but performed slightly below some of the other models.\n",
    "\n",
    "## Naive Bayes (NB) Classifier\n",
    "- **Accuracy:** 96.49%\n",
    "- The Naive Bayes classifier performed well, showcasing competitive accuracy in the breast cancer classification task.\n",
    "\n",
    "---"
   ]
  },
  {
   "cell_type": "code",
   "execution_count": null,
   "id": "a83a5903",
   "metadata": {},
   "outputs": [],
   "source": []
  },
  {
   "cell_type": "code",
   "execution_count": null,
   "id": "0a2f65f5",
   "metadata": {},
   "outputs": [],
   "source": []
  }
 ],
 "metadata": {
  "kernelspec": {
   "display_name": "Python 3 (ipykernel)",
   "language": "python",
   "name": "python3"
  },
  "language_info": {
   "codemirror_mode": {
    "name": "ipython",
    "version": 3
   },
   "file_extension": ".py",
   "mimetype": "text/x-python",
   "name": "python",
   "nbconvert_exporter": "python",
   "pygments_lexer": "ipython3",
   "version": "3.11.5"
  }
 },
 "nbformat": 4,
 "nbformat_minor": 5
}
